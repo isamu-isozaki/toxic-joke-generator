{
  "nbformat": 4,
  "nbformat_minor": 0,
  "metadata": {
    "colab": {
      "name": "GPT Jokes",
      "version": "0.3.2",
      "provenance": [],
      "collapsed_sections": [],
      "include_colab_link": true
    },
    "kernelspec": {
      "name": "python3",
      "display_name": "Python 3"
    },
    "accelerator": "GPU"
  },
  "cells": [
    {
      "cell_type": "markdown",
      "metadata": {
        "id": "view-in-github",
        "colab_type": "text"
      },
      "source": [
        "<a href=\"https://colab.research.google.com/github/isamu-isozaki/toxic-joke-generator/blob/master/GPT_Jokes.ipynb\" target=\"_parent\"><img src=\"https://colab.research.google.com/assets/colab-badge.svg\" alt=\"Open In Colab\"/></a>"
      ]
    },
    {
      "metadata": {
        "id": "JE_fFgQ8a_Dd",
        "colab_type": "code",
        "colab": {}
      },
      "cell_type": "code",
      "source": [
        "#Thanks https://www.reddit.com/r/MachineLearning/comments/bgvzdu/d_jokes_generated_via_gpt2/\n",
        "import os\n",
        "import json\n",
        "import random\n",
        "import re"
      ],
      "execution_count": 0,
      "outputs": []
    },
    {
      "metadata": {
        "id": "oG_g6efA_ZNE",
        "colab_type": "code",
        "colab": {}
      },
      "cell_type": "code",
      "source": [
        "!pip install -U -q PyDrive"
      ],
      "execution_count": 0,
      "outputs": []
    },
    {
      "metadata": {
        "id": "r04wALg1_ede",
        "colab_type": "code",
        "colab": {}
      },
      "cell_type": "code",
      "source": [
        "from pydrive.auth import GoogleAuth\n",
        "from pydrive.drive import GoogleDrive\n",
        "from google.colab import auth\n",
        "from oauth2client.client import GoogleCredentials\n",
        "\n",
        "# 1. Authenticate and create the PyDrive client.\n",
        "auth.authenticate_user()\n",
        "gauth = GoogleAuth()\n",
        "gauth.credentials = GoogleCredentials.get_application_default()\n",
        "drive = GoogleDrive(gauth)"
      ],
      "execution_count": 0,
      "outputs": []
    },
    {
      "metadata": {
        "id": "4-XwTBtoyP1h",
        "colab_type": "code",
        "colab": {}
      },
      "cell_type": "code",
      "source": [
        "folder_id = []"
      ],
      "execution_count": 0,
      "outputs": []
    },
    {
      "metadata": {
        "id": "SGXuWReP_hz2",
        "colab_type": "code",
        "colab": {}
      },
      "cell_type": "code",
      "source": [
        "def ListFolder(parent, show=False):\n",
        "  global folder_id\n",
        "  filelist=[]\n",
        "  file_list = drive.ListFile({'q': \"'%s' in parents and trashed=false\" % parent}).GetList()\n",
        "  for f in file_list:\n",
        "    if show:\n",
        "      print(f\"{f['title']}, {f['id']}\")\n",
        "    if f['mimeType']=='application/vnd.google-apps.folder': # if folder\n",
        "        if f['title'] == \"autoencoder1\":\n",
        "          folder_id = f['id']\n",
        "          filelist.append({\"id\":f['id'],\"title\":f['title'], \"mimeType\": 'application/vnd.google-apps.folder', \"list\":ListFolder(f['id'])})\n",
        "        else:\n",
        "          for f1 in ListFolder(f['id']):\n",
        "            filelist.append(f1)\n",
        "    else:\n",
        "        filelist.append({\"id\":f['id'],\"title\":f['title'],\"mimeType\":\"file\",\"title1\":f['alternateLink']})\n",
        "  return filelist\n",
        "fl = ListFolder('root')"
      ],
      "execution_count": 0,
      "outputs": []
    },
    {
      "metadata": {
        "id": "a3joTfAs_z6W",
        "colab_type": "code",
        "colab": {}
      },
      "cell_type": "code",
      "source": [
        "for f in fl:\n",
        "  if (f['title'] == \"gpt-2.zip\") and os.path.isfile(f['title']) == False:\n",
        "    auth.authenticate_user()\n",
        "    gauth = GoogleAuth()\n",
        "    gauth.credentials = GoogleCredentials.get_application_default()\n",
        "    drive = GoogleDrive(gauth)\n",
        "    fil = drive.CreateFile({'id':f['id']})\n",
        "    fil.GetContentFile(f['title'])"
      ],
      "execution_count": 0,
      "outputs": []
    },
    {
      "metadata": {
        "id": "oVgopSQFUQjV",
        "colab_type": "code",
        "colab": {}
      },
      "cell_type": "code",
      "source": [
        "from zipfile import ZipFile\n",
        "# Create a ZipFile Object and load sample.zip in it\n",
        "with ZipFile('gpt-2.zip', 'r') as zipObj:\n",
        "    zipObj.extractall()"
      ],
      "execution_count": 0,
      "outputs": []
    },
    {
      "metadata": {
        "id": "fnQL-klO06KL",
        "colab_type": "code",
        "outputId": "7530ab59-830f-45b9-9abd-4f6abe9a4358",
        "colab": {
          "base_uri": "https://localhost:8080/",
          "height": 35
        }
      },
      "cell_type": "code",
      "source": [
        "cd gpt-2"
      ],
      "execution_count": 42,
      "outputs": [
        {
          "output_type": "stream",
          "text": [
            "/content/gpt-2\n"
          ],
          "name": "stdout"
        }
      ]
    },
    {
      "metadata": {
        "id": "Y9946gJ007ct",
        "colab_type": "code",
        "colab": {}
      },
      "cell_type": "code",
      "source": [
        "if not os.path.exists('checkpoint'):\n",
        "  os.makedirs(\"checkpoint\")"
      ],
      "execution_count": 0,
      "outputs": []
    },
    {
      "metadata": {
        "id": "WXTOFLMQ1Fzo",
        "colab_type": "code",
        "outputId": "dffb7640-62a6-4b74-bfd9-6676ba70db5a",
        "colab": {
          "base_uri": "https://localhost:8080/",
          "height": 35
        }
      },
      "cell_type": "code",
      "source": [
        "cd checkpoint"
      ],
      "execution_count": 44,
      "outputs": [
        {
          "output_type": "stream",
          "text": [
            "/content/gpt-2/checkpoint\n"
          ],
          "name": "stdout"
        }
      ]
    },
    {
      "metadata": {
        "id": "pG-saFOy1OJG",
        "colab_type": "code",
        "colab": {}
      },
      "cell_type": "code",
      "source": [
        "if not os.path.exists('run1'):\n",
        "  os.makedirs(\"run1\")"
      ],
      "execution_count": 0,
      "outputs": []
    },
    {
      "metadata": {
        "id": "8dKa_Vx92B6s",
        "colab_type": "code",
        "colab": {}
      },
      "cell_type": "code",
      "source": [
        "for f in fl:\n",
        "  if f['title'] == \"autoencoder1\":\n",
        "    for part in f[\"list\"]:\n",
        "      fil = drive.CreateFile({'id':part['id']})\n",
        "      fil.GetContentFile(part['title'][18:])\n",
        "      os.rename(part['title'][18:], \"./run1/\"+part['title'][18:])"
      ],
      "execution_count": 0,
      "outputs": []
    },
    {
      "metadata": {
        "id": "dT0oJYLd5Oxy",
        "colab_type": "code",
        "outputId": "e7282950-c592-42bd-bbb7-9bfdfc8f94c4",
        "colab": {
          "base_uri": "https://localhost:8080/",
          "height": 35
        }
      },
      "cell_type": "code",
      "source": [
        "cd .."
      ],
      "execution_count": 49,
      "outputs": [
        {
          "output_type": "stream",
          "text": [
            "/content/gpt-2\n"
          ],
          "name": "stdout"
        }
      ]
    },
    {
      "metadata": {
        "id": "azu6KCOHbhIy",
        "colab_type": "code",
        "outputId": "979ba20b-af65-4db5-e583-9c760ba07313",
        "colab": {
          "base_uri": "https://localhost:8080/",
          "height": 179
        }
      },
      "cell_type": "code",
      "source": [
        "!pip3 install -r requirements.txt"
      ],
      "execution_count": 15,
      "outputs": [
        {
          "output_type": "stream",
          "text": [
            "Requirement already satisfied: fire>=0.1.3 in /usr/local/lib/python3.6/dist-packages (from -r requirements.txt (line 1)) (0.1.3)\n",
            "Requirement already satisfied: regex==2017.4.5 in /usr/local/lib/python3.6/dist-packages (from -r requirements.txt (line 2)) (2017.4.5)\n",
            "Requirement already satisfied: requests==2.21.0 in /usr/local/lib/python3.6/dist-packages (from -r requirements.txt (line 3)) (2.21.0)\n",
            "Requirement already satisfied: tqdm==4.31.1 in /usr/local/lib/python3.6/dist-packages (from -r requirements.txt (line 4)) (4.31.1)\n",
            "Requirement already satisfied: six in /usr/local/lib/python3.6/dist-packages (from fire>=0.1.3->-r requirements.txt (line 1)) (1.12.0)\n",
            "Requirement already satisfied: chardet<3.1.0,>=3.0.2 in /usr/local/lib/python3.6/dist-packages (from requests==2.21.0->-r requirements.txt (line 3)) (3.0.4)\n",
            "Requirement already satisfied: certifi>=2017.4.17 in /usr/local/lib/python3.6/dist-packages (from requests==2.21.0->-r requirements.txt (line 3)) (2019.3.9)\n",
            "Requirement already satisfied: idna<2.9,>=2.5 in /usr/local/lib/python3.6/dist-packages (from requests==2.21.0->-r requirements.txt (line 3)) (2.8)\n",
            "Requirement already satisfied: urllib3<1.25,>=1.21.1 in /usr/local/lib/python3.6/dist-packages (from requests==2.21.0->-r requirements.txt (line 3)) (1.24.2)\n"
          ],
          "name": "stdout"
        }
      ]
    },
    {
      "metadata": {
        "id": "QbBJ6JoufBGQ",
        "colab_type": "code",
        "outputId": "3d9339dd-5b1d-4236-8e5a-c1192501b097",
        "colab": {
          "base_uri": "https://localhost:8080/",
          "height": 2207
        }
      },
      "cell_type": "code",
      "source": [
        "!python ./train.py --dataset jokes.txt.npz --batch_size 2 --sample_every 100 --save_every 1000 --folder_id $folder_id"
      ],
      "execution_count": 0,
      "outputs": [
        {
          "output_type": "stream",
          "text": [
            "2019-05-03 11:17:53.532871: I tensorflow/core/platform/profile_utils/cpu_utils.cc:94] CPU Frequency: 2300000000 Hz\n",
            "2019-05-03 11:17:53.533131: I tensorflow/compiler/xla/service/service.cc:150] XLA service 0x75ae6e0 executing computations on platform Host. Devices:\n",
            "2019-05-03 11:17:53.533164: I tensorflow/compiler/xla/service/service.cc:158]   StreamExecutor device (0): <undefined>, <undefined>\n",
            "2019-05-03 11:17:53.709250: I tensorflow/stream_executor/cuda/cuda_gpu_executor.cc:998] successful NUMA node read from SysFS had negative value (-1), but there must be at least one NUMA node, so returning NUMA node zero\n",
            "2019-05-03 11:17:53.709769: I tensorflow/compiler/xla/service/service.cc:150] XLA service 0x75ef440 executing computations on platform CUDA. Devices:\n",
            "2019-05-03 11:17:53.709797: I tensorflow/compiler/xla/service/service.cc:158]   StreamExecutor device (0): Tesla T4, Compute Capability 7.5\n",
            "2019-05-03 11:17:53.710161: I tensorflow/core/common_runtime/gpu/gpu_device.cc:1433] Found device 0 with properties: \n",
            "name: Tesla T4 major: 7 minor: 5 memoryClockRate(GHz): 1.59\n",
            "pciBusID: 0000:00:04.0\n",
            "totalMemory: 14.73GiB freeMemory: 14.60GiB\n",
            "2019-05-03 11:17:53.710186: I tensorflow/core/common_runtime/gpu/gpu_device.cc:1512] Adding visible gpu devices: 0\n",
            "2019-05-03 11:17:54.183343: I tensorflow/core/common_runtime/gpu/gpu_device.cc:984] Device interconnect StreamExecutor with strength 1 edge matrix:\n",
            "2019-05-03 11:17:54.183417: I tensorflow/core/common_runtime/gpu/gpu_device.cc:990]      0 \n",
            "2019-05-03 11:17:54.183432: I tensorflow/core/common_runtime/gpu/gpu_device.cc:1003] 0:   N \n",
            "2019-05-03 11:17:54.183780: I tensorflow/core/common_runtime/gpu/gpu_device.cc:1115] Created TensorFlow device (/job:localhost/replica:0/task:0/device:GPU:0 with 14115 MB memory) -> physical GPU (device: 0, name: Tesla T4, pci bus id: 0000:00:04.0, compute capability: 7.5)\n",
            "WARNING:tensorflow:From /usr/local/lib/python3.6/dist-packages/tensorflow/python/framework/op_def_library.py:263: colocate_with (from tensorflow.python.framework.ops) is deprecated and will be removed in a future version.\n",
            "Instructions for updating:\n",
            "Colocations handled automatically by placer.\n",
            "WARNING:tensorflow:From /content/gpt-2/sample.py:51: to_float (from tensorflow.python.ops.math_ops) is deprecated and will be removed in a future version.\n",
            "Instructions for updating:\n",
            "Use tf.cast instead.\n",
            "WARNING:tensorflow:From /content/gpt-2/sample.py:53: multinomial (from tensorflow.python.ops.random_ops) is deprecated and will be removed in a future version.\n",
            "Instructions for updating:\n",
            "Use tf.random.categorical instead.\n",
            "WARNING:tensorflow:From /usr/local/lib/python3.6/dist-packages/tensorflow/python/ops/math_ops.py:3066: to_int32 (from tensorflow.python.ops.math_ops) is deprecated and will be removed in a future version.\n",
            "Instructions for updating:\n",
            "Use tf.cast instead.\n",
            "WARNING:tensorflow:From /usr/local/lib/python3.6/dist-packages/tensorflow/python/ops/math_grad.py:102: div (from tensorflow.python.ops.math_ops) is deprecated and will be removed in a future version.\n",
            "Instructions for updating:\n",
            "Deprecated in favor of operator or tf.math.divide.\n",
            "Loading checkpoint checkpoint/run1/model-1005\n",
            "WARNING:tensorflow:From /usr/local/lib/python3.6/dist-packages/tensorflow/python/training/saver.py:1266: checkpoint_exists (from tensorflow.python.training.checkpoint_management) is deprecated and will be removed in a future version.\n",
            "Instructions for updating:\n",
            "Use standard file APIs to check for files with this prefix.\n",
            "Loading dataset...\n",
            "100% 1/1 [00:00<00:00,  1.81it/s]\n",
            "dataset has 17395295 tokens\n",
            "Training...\n",
            "2019-05-03 11:18:22.680260: I tensorflow/stream_executor/dso_loader.cc:152] successfully opened CUDA library libcublas.so.10.0 locally\n",
            "[1006 | 10.65] loss=2.76 avg=2.76\n",
            "[1007 | 14.87] loss=2.88 avg=2.82\n",
            "[1008 | 19.11] loss=3.02 avg=2.89\n",
            "[1009 | 23.38] loss=2.75 avg=2.85\n",
            "[1010 | 27.66] loss=2.63 avg=2.81\n",
            "[1011 | 31.97] loss=2.73 avg=2.80\n",
            "[1012 | 36.29] loss=2.96 avg=2.82\n",
            "[1013 | 40.63] loss=2.98 avg=2.84\n",
            "[1014 | 45.01] loss=2.69 avg=2.82\n",
            "[1015 | 49.41] loss=2.97 avg=2.84\n",
            "[1016 | 53.83] loss=2.65 avg=2.82\n",
            "[1017 | 58.30] loss=2.88 avg=2.83\n",
            "[1018 | 62.75] loss=2.71 avg=2.82\n",
            "[1019 | 67.23] loss=2.97 avg=2.83\n",
            "[1020 | 71.75] loss=2.78 avg=2.83\n",
            "[1021 | 76.30] loss=2.88 avg=2.83\n",
            "[1022 | 80.89] loss=2.97 avg=2.84\n",
            "[1023 | 85.52] loss=2.83 avg=2.84\n",
            "[1024 | 90.19] loss=2.71 avg=2.83\n",
            "[1025 | 94.90] loss=2.81 avg=2.83\n",
            "[1026 | 99.64] loss=2.77 avg=2.83\n",
            "[1027 | 104.39] loss=2.96 avg=2.83\n",
            "[1028 | 109.09] loss=2.81 avg=2.83\n",
            "[1029 | 113.73] loss=2.69 avg=2.82\n",
            "[1030 | 118.35] loss=2.92 avg=2.83\n",
            "[1031 | 122.94] loss=2.90 avg=2.83\n",
            "[1032 | 127.52] loss=2.81 avg=2.83\n",
            "[1033 | 132.08] loss=2.86 avg=2.83\n",
            "[1034 | 136.64] loss=2.78 avg=2.83\n",
            "[1035 | 141.19] loss=2.90 avg=2.83\n",
            "[1036 | 145.73] loss=2.80 avg=2.83\n",
            "[1037 | 150.28] loss=2.80 avg=2.83\n",
            "[1038 | 154.84] loss=2.87 avg=2.83\n",
            "[1039 | 159.41] loss=2.89 avg=2.83\n",
            "[1040 | 164.01] loss=2.73 avg=2.83\n",
            "[1041 | 168.62] loss=2.84 avg=2.83\n",
            "[1042 | 173.24] loss=3.00 avg=2.84\n",
            "[1043 | 177.85] loss=2.88 avg=2.84\n",
            "[1044 | 182.46] loss=2.90 avg=2.84\n",
            "[1045 | 187.07] loss=2.76 avg=2.84\n",
            "[1046 | 191.68] loss=3.03 avg=2.84\n",
            "[1047 | 196.27] loss=2.89 avg=2.84\n",
            "[1048 | 200.85] loss=2.81 avg=2.84\n",
            "[1049 | 205.45] loss=3.09 avg=2.85\n",
            "[1050 | 210.03] loss=2.77 avg=2.85\n",
            "[1051 | 214.62] loss=2.88 avg=2.85\n",
            "[1052 | 219.20] loss=3.00 avg=2.85\n",
            "[1053 | 223.77] loss=3.06 avg=2.86\n",
            "[1054 | 228.34] loss=2.89 avg=2.86\n",
            "[1055 | 232.93] loss=2.91 avg=2.86\n",
            "[1056 | 237.51] loss=2.85 avg=2.86\n",
            "[1057 | 242.11] loss=2.83 avg=2.86\n",
            "[1058 | 246.69] loss=2.92 avg=2.86\n",
            "[1059 | 251.28] loss=2.88 avg=2.86\n",
            "[1060 | 255.89] loss=2.64 avg=2.86\n",
            "[1061 | 260.49] loss=2.63 avg=2.85\n",
            "[1062 | 265.08] loss=2.69 avg=2.85\n",
            "[1063 | 269.69] loss=2.90 avg=2.85\n",
            "[1064 | 274.28] loss=2.69 avg=2.85\n",
            "[1065 | 278.88] loss=2.70 avg=2.84\n",
            "[1066 | 283.49] loss=2.80 avg=2.84\n",
            "[1067 | 288.09] loss=2.82 avg=2.84\n",
            "[1068 | 292.70] loss=2.97 avg=2.84\n",
            "[1069 | 297.31] loss=2.89 avg=2.84\n",
            "[1070 | 301.92] loss=2.76 avg=2.84\n",
            "[1071 | 306.52] loss=2.65 avg=2.84\n",
            "[1072 | 311.14] loss=2.76 avg=2.84\n",
            "[1073 | 315.74] loss=2.85 avg=2.84\n",
            "[1074 | 320.35] loss=2.87 avg=2.84\n",
            "[1075 | 324.95] loss=2.76 avg=2.84\n",
            "[1076 | 329.56] loss=2.76 avg=2.84\n",
            "[1077 | 334.18] loss=2.74 avg=2.83\n",
            "[1078 | 338.79] loss=2.86 avg=2.83\n",
            "[1079 | 343.40] loss=2.80 avg=2.83\n",
            "[1080 | 348.01] loss=2.86 avg=2.83\n",
            "[1081 | 352.62] loss=2.74 avg=2.83\n",
            "[1082 | 357.24] loss=2.74 avg=2.83\n",
            "[1083 | 361.86] loss=2.68 avg=2.83\n",
            "[1084 | 366.47] loss=2.67 avg=2.82\n",
            "[1085 | 371.09] loss=2.78 avg=2.82\n"
          ],
          "name": "stdout"
        }
      ]
    },
    {
      "metadata": {
        "id": "Q-H4kkl3E34D",
        "colab_type": "code",
        "colab": {}
      },
      "cell_type": "code",
      "source": [
        "!cp -r /content/gpt-2/checkpoint/run1/* /content/gpt-2/models/117M/"
      ],
      "execution_count": 0,
      "outputs": []
    },
    {
      "metadata": {
        "id": "2csc2bZHfrXd",
        "colab_type": "code",
        "colab": {
          "base_uri": "https://localhost:8080/",
          "height": 1187
        },
        "outputId": "10abe765-356b-457b-f1cd-6c6798136cf2"
      },
      "cell_type": "code",
      "source": [
        "!python3 generate_unconditional_samples.py --top_k 40 --temperature 1.2"
      ],
      "execution_count": 77,
      "outputs": [
        {
          "output_type": "stream",
          "text": [
            "Exception ignored in: <function _get_module_lock.<locals>.cb at 0x7fa51b457158>\n",
            "Traceback (most recent call last):\n",
            "  File \"<frozen importlib._bootstrap>\", line 176, in cb\n",
            "KeyboardInterrupt: \n",
            "Traceback (most recent call last):\n",
            "  File \"generate_unconditional_samples.py\", line 9, in <module>\n",
            "    import model, sample, encoder\n",
            "  File \"/content/gpt-2/model.py\", line 3, in <module>\n",
            "    from tensorflow.contrib.training import HParams\n",
            "  File \"/usr/local/lib/python3.6/dist-packages/tensorflow/contrib/__init__.py\", line 37, in <module>\n",
            "    from tensorflow.contrib import cudnn_rnn\n",
            "  File \"/usr/local/lib/python3.6/dist-packages/tensorflow/contrib/cudnn_rnn/__init__.py\", line 38, in <module>\n",
            "    from tensorflow.contrib.cudnn_rnn.python.layers import *\n",
            "  File \"/usr/local/lib/python3.6/dist-packages/tensorflow/contrib/cudnn_rnn/python/layers/__init__.py\", line 23, in <module>\n",
            "    from tensorflow.contrib.cudnn_rnn.python.layers.cudnn_rnn import *\n",
            "  File \"/usr/local/lib/python3.6/dist-packages/tensorflow/contrib/cudnn_rnn/python/layers/cudnn_rnn.py\", line 20, in <module>\n",
            "    from tensorflow.contrib.cudnn_rnn.python.ops import cudnn_rnn_ops\n",
            "  File \"/usr/local/lib/python3.6/dist-packages/tensorflow/contrib/cudnn_rnn/python/ops/cudnn_rnn_ops.py\", line 22, in <module>\n",
            "    from tensorflow.contrib.rnn.python.ops import lstm_ops\n",
            "  File \"/usr/local/lib/python3.6/dist-packages/tensorflow/contrib/rnn/__init__.py\", line 93, in <module>\n",
            "    from tensorflow.contrib.rnn.python.ops.rnn_cell import *\n",
            "  File \"/usr/local/lib/python3.6/dist-packages/tensorflow/contrib/rnn/python/ops/rnn_cell.py\", line 24, in <module>\n",
            "    from tensorflow.contrib.layers.python.layers import layers\n",
            "  File \"/usr/local/lib/python3.6/dist-packages/tensorflow/contrib/layers/__init__.py\", line 116, in <module>\n",
            "    from tensorflow.contrib.layers.python.layers import *\n",
            "  File \"/usr/local/lib/python3.6/dist-packages/tensorflow/contrib/layers/python/layers/__init__.py\", line 33, in <module>\n",
            "    from tensorflow.contrib.layers.python.layers.target_column import *\n",
            "  File \"/usr/local/lib/python3.6/dist-packages/tensorflow/contrib/layers/python/layers/target_column.py\", line 24, in <module>\n",
            "    from tensorflow.contrib.losses.python.losses import loss_ops\n",
            "  File \"/usr/local/lib/python3.6/dist-packages/tensorflow/contrib/losses/__init__.py\", line 25, in <module>\n",
            "    from tensorflow.contrib.losses.python import metric_learning\n",
            "  File \"/usr/local/lib/python3.6/dist-packages/tensorflow/contrib/losses/python/metric_learning/__init__.py\", line 25, in <module>\n",
            "    from tensorflow.contrib.losses.python.metric_learning.metric_loss_ops import *\n",
            "  File \"/usr/local/lib/python3.6/dist-packages/tensorflow/contrib/losses/python/metric_learning/metric_loss_ops.py\", line 34, in <module>\n",
            "    from sklearn import metrics\n",
            "  File \"/usr/local/lib/python3.6/dist-packages/sklearn/metrics/__init__.py\", line 7, in <module>\n",
            "    from .ranking import auc\n",
            "  File \"/usr/local/lib/python3.6/dist-packages/sklearn/metrics/ranking.py\", line 27, in <module>\n",
            "    from scipy.stats import rankdata\n",
            "  File \"/usr/local/lib/python3.6/dist-packages/scipy/stats/__init__.py\", line 367, in <module>\n",
            "    from .stats import *\n",
            "  File \"/usr/local/lib/python3.6/dist-packages/scipy/stats/stats.py\", line 173, in <module>\n",
            "    from . import distributions\n",
            "  File \"/usr/local/lib/python3.6/dist-packages/scipy/stats/distributions.py\", line 13, in <module>\n",
            "    from . import _continuous_distns\n",
            "  File \"/usr/local/lib/python3.6/dist-packages/scipy/stats/_continuous_distns.py\", line 6255, in <module>\n",
            "    triang = triang_gen(a=0.0, b=1.0, name=\"triang\")\n",
            "  File \"/usr/local/lib/python3.6/dist-packages/scipy/stats/_distn_infrastructure.py\", line 1526, in __init__\n",
            "    locscale_out='loc, scale')\n",
            "  File \"/usr/local/lib/python3.6/dist-packages/scipy/stats/_distn_infrastructure.py\", line 659, in _construct_argparser\n",
            "    shapes_args = _getargspec(meth)   # NB: does not contain self\n",
            "  File \"/usr/local/lib/python3.6/dist-packages/scipy/_lib/_util.py\", line 291, in getargspec_no_self\n",
            "    sig = inspect.signature(func)\n",
            "  File \"/usr/lib/python3.6/inspect.py\", line 3057, in signature\n",
            "    return Signature.from_callable(obj, follow_wrapped=follow_wrapped)\n",
            "  File \"/usr/lib/python3.6/inspect.py\", line 2807, in from_callable\n",
            "    follow_wrapper_chains=follow_wrapped)\n",
            "  File \"/usr/lib/python3.6/inspect.py\", line 2200, in _signature_from_callable\n",
            "    sigcls=sigcls)\n",
            "  File \"/usr/lib/python3.6/inspect.py\", line 2267, in _signature_from_callable\n",
            "    return _signature_from_function(sigcls, obj)\n",
            "  File \"/usr/lib/python3.6/inspect.py\", line 2118, in _signature_from_function\n",
            "    positional = tuple(arg_names[:pos_count])\n",
            "KeyboardInterrupt\n",
            "^C\n"
          ],
          "name": "stdout"
        }
      ]
    }
  ]
}